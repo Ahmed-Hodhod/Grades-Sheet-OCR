{
 "cells": [
  {
   "cell_type": "code",
   "execution_count": 35,
   "metadata": {},
   "outputs": [
    {
     "name": "stdout",
     "output_type": "stream",
     "text": [
      "(1.9333333333333333, 2.166666666666667)\n",
      "grade_sheet/5.jpg\n"
     ]
    },
    {
     "data": {
      "text/plain": [
       "4"
      ]
     },
     "execution_count": 35,
     "metadata": {},
     "output_type": "execute_result"
    }
   ],
   "source": [
    "import numpy as np \n",
    "\n",
    "arr = np.array([[1,2,3,4], \n",
    "                [2,5,6,5],\n",
    "                [2,2,4,8]\n",
    "                ])\n",
    "\n",
    "\n",
    "data = np.array(arr)\n",
    "# Calculate the first and third quartiles (Q1 and Q3)\n",
    "hist, edges = np.histogram(data, bins=30)\n",
    "\n",
    "# Identify the bin with the maximum frequency\n",
    "max_freq_bin_index = np.argmax(hist)\n",
    "most_frequent_range = (edges[max_freq_bin_index], edges[max_freq_bin_index + 1])\n",
    "print(most_frequent_range)\n",
    "\n",
    "path_to_image = f\"grade_sheet/{5}.jpg\"\n",
    "print(path_to_image)\n",
    "\n",
    "\n",
    "int(np.mean(arr[:,2]))\n",
    "\n"
   ]
  }
 ],
 "metadata": {
  "kernelspec": {
   "display_name": "Python 3",
   "language": "python",
   "name": "python3"
  },
  "language_info": {
   "codemirror_mode": {
    "name": "ipython",
    "version": 3
   },
   "file_extension": ".py",
   "mimetype": "text/x-python",
   "name": "python",
   "nbconvert_exporter": "python",
   "pygments_lexer": "ipython3",
   "version": "3.10.13"
  }
 },
 "nbformat": 4,
 "nbformat_minor": 2
}
